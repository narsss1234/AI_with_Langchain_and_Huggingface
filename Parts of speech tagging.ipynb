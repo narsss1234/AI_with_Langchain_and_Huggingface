{
 "cells": [
  {
   "cell_type": "markdown",
   "id": "dca6be27-ae5e-4373-a757-edbdf0240f91",
   "metadata": {},
   "source": [
    "### Parts of Speech Tagging"
   ]
  },
  {
   "cell_type": "code",
   "execution_count": 1,
   "id": "06f9c704-eba4-47fb-a654-44b89492076b",
   "metadata": {},
   "outputs": [
    {
     "data": {
      "text/plain": [
       "'Taj Mahal is a beautiful Monument'"
      ]
     },
     "execution_count": 1,
     "metadata": {},
     "output_type": "execute_result"
    }
   ],
   "source": [
    "\"Taj Mahal is a beautiful Monument\""
   ]
  },
  {
   "cell_type": "code",
   "execution_count": 8,
   "id": "b9243869-20f6-41c1-b967-f04320444412",
   "metadata": {},
   "outputs": [],
   "source": [
    "paragraphs = \"\"\"\n",
    "Dr. APJ Abdul Kalam's speeches often emphasized the importance of dreaming big, working hard, and contributing to India's development. He frequently encouraged young people to develop courage, think differently, and strive for excellence. He also highlighted the need for self-reliance and a strong sense of national identity. \n",
    "Here are some key themes and ideas often found in his speeches:\n",
    "Dreaming Big and Setting Ambitious Goals:\n",
    "Kalam frequently urged individuals, especially young people, to dream big and set ambitious goals for themselves and for the nation. He believed that dreams, coupled with hard work and perseverance, could lead to remarkable achievements. \n",
    "Importance of Education and Learning:\n",
    "He stressed the significance of education, both formal and informal, and encouraged continuous learning and skill development. He believed that education empowers individuals to contribute meaningfully to society. \n",
    "Courage and Perseverance:\n",
    "Kalam's speeches often celebrated courage, the willingness to challenge conventional thinking, and the ability to persevere in the face of challenges and setbacks. \n",
    "National Development and Self-Reliance:\n",
    "He was a strong advocate for India's development and self-reliance. He believed that India had the potential to become a developed nation and urged citizens to work towards this goal. \n",
    "Ethical Leadership and Values:\n",
    "Kalam emphasized the importance of ethical leadership, integrity, and the need to uphold values in all aspects of life. \n",
    "Contribution to Society:\n",
    "He encouraged individuals to find ways to contribute to society, whether through scientific advancements, social service, or other means. \n",
    "Inspiration from Nature:\n",
    "Kalam often used examples from nature, like the flight of birds, to illustrate complex concepts and inspire his audience. \n",
    "\"\"\""
   ]
  },
  {
   "cell_type": "code",
   "execution_count": 18,
   "id": "a73ce9dc-7c05-4672-8006-c9b8a3715585",
   "metadata": {},
   "outputs": [
    {
     "name": "stderr",
     "output_type": "stream",
     "text": [
      "[nltk_data] Downloading package averaged_perceptron_tagger_eng to\n",
      "[nltk_data]     C:\\Users\\Admin\\AppData\\Roaming\\nltk_data...\n",
      "[nltk_data]   Unzipping taggers\\averaged_perceptron_tagger_eng.zip.\n"
     ]
    },
    {
     "data": {
      "text/plain": [
       "[\"\\nDr. APJ Abdul Kalam's speeches often emphasized the importance of dreaming big, working hard, and contributing to India's development.\",\n",
       " 'He frequently encouraged young people to develop courage, think differently, and strive for excellence.',\n",
       " 'He also highlighted the need for self-reliance and a strong sense of national identity.',\n",
       " 'Here are some key themes and ideas often found in his speeches:\\nDreaming Big and Setting Ambitious Goals:\\nKalam frequently urged individuals, especially young people, to dream big and set ambitious goals for themselves and for the nation.',\n",
       " 'He believed that dreams, coupled with hard work and perseverance, could lead to remarkable achievements.',\n",
       " 'Importance of Education and Learning:\\nHe stressed the significance of education, both formal and informal, and encouraged continuous learning and skill development.',\n",
       " 'He believed that education empowers individuals to contribute meaningfully to society.',\n",
       " \"Courage and Perseverance:\\nKalam's speeches often celebrated courage, the willingness to challenge conventional thinking, and the ability to persevere in the face of challenges and setbacks.\",\n",
       " \"National Development and Self-Reliance:\\nHe was a strong advocate for India's development and self-reliance.\",\n",
       " 'He believed that India had the potential to become a developed nation and urged citizens to work towards this goal.',\n",
       " 'Ethical Leadership and Values:\\nKalam emphasized the importance of ethical leadership, integrity, and the need to uphold values in all aspects of life.',\n",
       " 'Contribution to Society:\\nHe encouraged individuals to find ways to contribute to society, whether through scientific advancements, social service, or other means.',\n",
       " 'Inspiration from Nature:\\nKalam often used examples from nature, like the flight of birds, to illustrate complex concepts and inspire his audience.']"
      ]
     },
     "execution_count": 18,
     "metadata": {},
     "output_type": "execute_result"
    }
   ],
   "source": [
    "import nltk\n",
    "from nltk.stem import PorterStemmer\n",
    "from nltk.tokenize import sent_tokenize\n",
    "from nltk.corpus import stopwords\n",
    "nltk.download('averaged_perceptron_tagger_eng')\n",
    "\n",
    "porter_stemmer = PorterStemmer()\n",
    "\n",
    "sentences = nltk.sent_tokenize(paragraphs)\n",
    "\n",
    "sentences"
   ]
  },
  {
   "cell_type": "code",
   "execution_count": 20,
   "id": "e5de1df7-f4b6-4c1d-82a8-bc328218fef3",
   "metadata": {},
   "outputs": [
    {
     "name": "stdout",
     "output_type": "stream",
     "text": [
      "[('Dr.', 'NNP'), ('APJ', 'NNP'), ('Abdul', 'NNP'), ('Kalam', 'NNP'), (\"'s\", 'POS'), ('speeches', 'NNS'), ('often', 'RB'), ('emphasized', 'VBD'), ('importance', 'NN'), ('dreaming', 'VBG'), ('big', 'JJ'), (',', ','), ('working', 'VBG'), ('hard', 'RB'), (',', ','), ('contributing', 'VBG'), ('India', 'NNP'), (\"'s\", 'POS'), ('development', 'NN'), ('.', '.')]\n",
      "[('He', 'PRP'), ('frequently', 'RB'), ('encouraged', 'VBD'), ('young', 'JJ'), ('people', 'NNS'), ('develop', 'VBP'), ('courage', 'NN'), (',', ','), ('think', 'VBP'), ('differently', 'RB'), (',', ','), ('strive', 'JJ'), ('excellence', 'NN'), ('.', '.')]\n",
      "[('He', 'PRP'), ('also', 'RB'), ('highlighted', 'VBD'), ('need', 'MD'), ('self-reliance', 'VB'), ('strong', 'JJ'), ('sense', 'NN'), ('national', 'JJ'), ('identity', 'NN'), ('.', '.')]\n",
      "[('Here', 'RB'), ('key', 'JJ'), ('themes', 'NNS'), ('ideas', 'NNS'), ('often', 'RB'), ('found', 'VBD'), ('speeches', 'NNS'), (':', ':'), ('Dreaming', 'VBG'), ('Big', 'NNP'), ('Setting', 'NNP'), ('Ambitious', 'JJ'), ('Goals', 'NNS'), (':', ':'), ('Kalam', 'NNP'), ('frequently', 'RB'), ('urged', 'VBD'), ('individuals', 'NNS'), (',', ','), ('especially', 'RB'), ('young', 'JJ'), ('people', 'NNS'), (',', ','), ('dream', 'NN'), ('big', 'JJ'), ('set', 'NN'), ('ambitious', 'JJ'), ('goals', 'NNS'), ('nation', 'NN'), ('.', '.')]\n",
      "[('He', 'PRP'), ('believed', 'VBD'), ('dreams', 'NNS'), (',', ','), ('coupled', 'VBN'), ('hard', 'JJ'), ('work', 'NN'), ('perseverance', 'NN'), (',', ','), ('could', 'MD'), ('lead', 'VB'), ('remarkable', 'JJ'), ('achievements', 'NNS'), ('.', '.')]\n",
      "[('Importance', 'NNP'), ('Education', 'NNP'), ('Learning', 'NNP'), (':', ':'), ('He', 'PRP'), ('stressed', 'VBD'), ('significance', 'NN'), ('education', 'NN'), (',', ','), ('formal', 'JJ'), ('informal', 'NN'), (',', ','), ('encouraged', 'VBD'), ('continuous', 'JJ'), ('learning', 'VBG'), ('skill', 'NN'), ('development', 'NN'), ('.', '.')]\n",
      "[('He', 'PRP'), ('believed', 'VBD'), ('education', 'NN'), ('empowers', 'NNS'), ('individuals', 'NNS'), ('contribute', 'VBP'), ('meaningfully', 'RB'), ('society', 'NN'), ('.', '.')]\n",
      "[('Courage', 'NN'), ('Perseverance', 'NN'), (':', ':'), ('Kalam', 'NNP'), (\"'s\", 'POS'), ('speeches', 'NNS'), ('often', 'RB'), ('celebrated', 'VBN'), ('courage', 'NN'), (',', ','), ('willingness', 'NN'), ('challenge', 'NN'), ('conventional', 'JJ'), ('thinking', 'NN'), (',', ','), ('ability', 'NN'), ('persevere', 'RB'), ('face', 'NN'), ('challenges', 'NNS'), ('setbacks', 'NNS'), ('.', '.')]\n",
      "[('National', 'NNP'), ('Development', 'NNP'), ('Self-Reliance', 'NN'), (':', ':'), ('He', 'PRP'), ('strong', 'JJ'), ('advocate', 'JJ'), ('India', 'NNP'), (\"'s\", 'POS'), ('development', 'NN'), ('self-reliance', 'NN'), ('.', '.')]\n",
      "[('He', 'PRP'), ('believed', 'VBD'), ('India', 'NNP'), ('potential', 'JJ'), ('become', 'NN'), ('developed', 'JJ'), ('nation', 'NN'), ('urged', 'VBD'), ('citizens', 'NNS'), ('work', 'NN'), ('towards', 'NNS'), ('goal', 'NN'), ('.', '.')]\n",
      "[('Ethical', 'JJ'), ('Leadership', 'NNP'), ('Values', 'NNP'), (':', ':'), ('Kalam', 'NNP'), ('emphasized', 'VBD'), ('importance', 'NN'), ('ethical', 'JJ'), ('leadership', 'NN'), (',', ','), ('integrity', 'NN'), (',', ','), ('need', 'VBP'), ('uphold', 'JJ'), ('values', 'NNS'), ('aspects', 'VBZ'), ('life', 'NN'), ('.', '.')]\n",
      "[('Contribution', 'NN'), ('Society', 'NN'), (':', ':'), ('He', 'PRP'), ('encouraged', 'VBD'), ('individuals', 'NNS'), ('find', 'VBP'), ('ways', 'NNS'), ('contribute', 'VBP'), ('society', 'NN'), (',', ','), ('whether', 'IN'), ('scientific', 'JJ'), ('advancements', 'NNS'), (',', ','), ('social', 'JJ'), ('service', 'NN'), (',', ','), ('means', 'VBZ'), ('.', '.')]\n",
      "[('Inspiration', 'NN'), ('Nature', 'NN'), (':', ':'), ('Kalam', 'NNP'), ('often', 'RB'), ('used', 'VBD'), ('examples', 'NNS'), ('nature', 'RB'), (',', ','), ('like', 'IN'), ('flight', 'NN'), ('birds', 'NNS'), (',', ','), ('illustrate', 'NN'), ('complex', 'JJ'), ('concepts', 'NNS'), ('inspire', 'VBP'), ('audience', 'NN'), ('.', '.')]\n"
     ]
    }
   ],
   "source": [
    "## We will find the pos tag\n",
    "\n",
    "for i in range(len(sentences)):\n",
    "    words = nltk.word_tokenize(sentences[i])\n",
    "\n",
    "    words = [word for word in words if word not in stopwords.words('english')]\n",
    "    pos_tag = nltk.pos_tag(words)\n",
    "    \n",
    "    print(pos_tag)"
   ]
  },
  {
   "cell_type": "code",
   "execution_count": 28,
   "id": "a12c9d28-1606-46b9-b1cb-9a6e6f5d7c47",
   "metadata": {},
   "outputs": [
    {
     "data": {
      "text/plain": [
       "[\"dr. apj abdul kalam 's speech often emphas import dream big , work hard , contribut india 's develop .\",\n",
       " 'he frequent encourag young peopl develop courag , think differ , strive excel .',\n",
       " 'he also highlight need self-reli strong sens nation ident .',\n",
       " 'here key theme idea often found speech : dream big set ambiti goal : kalam frequent urg individu , especi young peopl , dream big set ambiti goal nation .',\n",
       " 'he believ dream , coupl hard work persever , could lead remark achiev .',\n",
       " 'import educ learn : he stress signific educ , formal inform , encourag continu learn skill develop .',\n",
       " 'he believ educ empow individu contribut meaning societi .',\n",
       " \"courag persever : kalam 's speech often celebr courag , willing challeng convent think , abil persever face challeng setback .\",\n",
       " \"nation develop self-reli : he strong advoc india 's develop self-reli .\",\n",
       " 'he believ india potenti becom develop nation urg citizen work toward goal .',\n",
       " 'ethic leadership valu : kalam emphas import ethic leadership , integr , need uphold valu aspect life .',\n",
       " 'contribut societi : he encourag individu find way contribut societi , whether scientif advanc , social servic , mean .',\n",
       " 'inspir natur : kalam often use exampl natur , like flight bird , illustr complex concept inspir audienc .']"
      ]
     },
     "execution_count": 28,
     "metadata": {},
     "output_type": "execute_result"
    }
   ],
   "source": [
    "porter_stemmer_sentences = []\n",
    "for i in range(len(sentences)):\n",
    "\n",
    "    words = nltk.word_tokenize(sentences[i])\n",
    "\n",
    "    words = [porter_stemmer.stem(word) for word in words if word not in stopwords.words('english')]\n",
    "\n",
    "    porter_stemmer_sentences.append(' '.join(words))\n",
    "\n",
    "porter_stemmer_sentences"
   ]
  },
  {
   "cell_type": "code",
   "execution_count": 33,
   "id": "a039c396-ec13-4094-908b-6b65aa4da445",
   "metadata": {},
   "outputs": [
    {
     "name": "stdout",
     "output_type": "stream",
     "text": [
      "[('Taj', 'NNP'), ('Mahal', 'NNP'), ('is', 'VBZ'), ('a', 'DT'), ('beautiful', 'JJ'), ('Monument', 'NN')]\n"
     ]
    }
   ],
   "source": [
    "print(nltk.pos_tag(\"Taj Mahal is a beautiful Monument\".split()))"
   ]
  },
  {
   "cell_type": "code",
   "execution_count": null,
   "id": "72188f20-4743-4072-976b-c1db2b24317d",
   "metadata": {},
   "outputs": [],
   "source": []
  }
 ],
 "metadata": {
  "kernelspec": {
   "display_name": "Python 3 (ipykernel)",
   "language": "python",
   "name": "python3"
  },
  "language_info": {
   "codemirror_mode": {
    "name": "ipython",
    "version": 3
   },
   "file_extension": ".py",
   "mimetype": "text/x-python",
   "name": "python",
   "nbconvert_exporter": "python",
   "pygments_lexer": "ipython3",
   "version": "3.12.7"
  }
 },
 "nbformat": 4,
 "nbformat_minor": 5
}
