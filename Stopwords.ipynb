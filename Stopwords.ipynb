{
 "cells": [
  {
   "cell_type": "markdown",
   "id": "0c576b48-1cdf-4037-abf2-ea4df2975b75",
   "metadata": {},
   "source": [
    "### STOPWORDS"
   ]
  },
  {
   "cell_type": "code",
   "execution_count": 1,
   "id": "38153993-b0a6-4390-857d-de283f364120",
   "metadata": {},
   "outputs": [],
   "source": [
    "paragraph = \"\"\"\n",
    "Dr. APJ Abdul Kalam's speeches often emphasized the importance of dreaming big, working hard, and contributing to India's development. He frequently encouraged young people to develop courage, think differently, and strive for excellence. He also highlighted the need for self-reliance and a strong sense of national identity. \n",
    "Here are some key themes and ideas often found in his speeches:\n",
    "Dreaming Big and Setting Ambitious Goals:\n",
    "Kalam frequently urged individuals, especially young people, to dream big and set ambitious goals for themselves and for the nation. He believed that dreams, coupled with hard work and perseverance, could lead to remarkable achievements. \n",
    "Importance of Education and Learning:\n",
    "He stressed the significance of education, both formal and informal, and encouraged continuous learning and skill development. He believed that education empowers individuals to contribute meaningfully to society. \n",
    "Courage and Perseverance:\n",
    "Kalam's speeches often celebrated courage, the willingness to challenge conventional thinking, and the ability to persevere in the face of challenges and setbacks. \n",
    "National Development and Self-Reliance:\n",
    "He was a strong advocate for India's development and self-reliance. He believed that India had the potential to become a developed nation and urged citizens to work towards this goal. \n",
    "Ethical Leadership and Values:\n",
    "Kalam emphasized the importance of ethical leadership, integrity, and the need to uphold values in all aspects of life. \n",
    "Contribution to Society:\n",
    "He encouraged individuals to find ways to contribute to society, whether through scientific advancements, social service, or other means. \n",
    "Inspiration from Nature:\n",
    "Kalam often used examples from nature, like the flight of birds, to illustrate complex concepts and inspire his audience. \n",
    "\"\"\""
   ]
  },
  {
   "cell_type": "code",
   "execution_count": 2,
   "id": "347619b0-56f3-4516-820f-661ecfa00707",
   "metadata": {},
   "outputs": [],
   "source": [
    "import nltk\n",
    "from nltk.stem import PorterStemmer"
   ]
  },
  {
   "cell_type": "code",
   "execution_count": 3,
   "id": "0c9c006e-6ca0-42c0-a199-cc92566c9f31",
   "metadata": {},
   "outputs": [],
   "source": [
    "from nltk.corpus import stopwords"
   ]
  },
  {
   "cell_type": "code",
   "execution_count": 4,
   "id": "7268c976-768d-4d88-b7fd-b49097a7f76f",
   "metadata": {},
   "outputs": [
    {
     "name": "stderr",
     "output_type": "stream",
     "text": [
      "[nltk_data] Downloading package stopwords to\n",
      "[nltk_data]     C:\\Users\\Admin\\AppData\\Roaming\\nltk_data...\n",
      "[nltk_data]   Package stopwords is already up-to-date!\n"
     ]
    },
    {
     "data": {
      "text/plain": [
       "True"
      ]
     },
     "execution_count": 4,
     "metadata": {},
     "output_type": "execute_result"
    }
   ],
   "source": [
    "nltk.download('stopwords')"
   ]
  },
  {
   "cell_type": "code",
   "execution_count": 5,
   "id": "b9dca753-c2ff-4f7b-8c48-c0989037cba9",
   "metadata": {},
   "outputs": [
    {
     "data": {
      "text/plain": [
       "['a',\n",
       " 'about',\n",
       " 'above',\n",
       " 'after',\n",
       " 'again',\n",
       " 'against',\n",
       " 'ain',\n",
       " 'all',\n",
       " 'am',\n",
       " 'an',\n",
       " 'and',\n",
       " 'any',\n",
       " 'are',\n",
       " 'aren',\n",
       " \"aren't\",\n",
       " 'as',\n",
       " 'at',\n",
       " 'be',\n",
       " 'because',\n",
       " 'been',\n",
       " 'before',\n",
       " 'being',\n",
       " 'below',\n",
       " 'between',\n",
       " 'both',\n",
       " 'but',\n",
       " 'by',\n",
       " 'can',\n",
       " 'couldn',\n",
       " \"couldn't\",\n",
       " 'd',\n",
       " 'did',\n",
       " 'didn',\n",
       " \"didn't\",\n",
       " 'do',\n",
       " 'does',\n",
       " 'doesn',\n",
       " \"doesn't\",\n",
       " 'doing',\n",
       " 'don',\n",
       " \"don't\",\n",
       " 'down',\n",
       " 'during',\n",
       " 'each',\n",
       " 'few',\n",
       " 'for',\n",
       " 'from',\n",
       " 'further',\n",
       " 'had',\n",
       " 'hadn',\n",
       " \"hadn't\",\n",
       " 'has',\n",
       " 'hasn',\n",
       " \"hasn't\",\n",
       " 'have',\n",
       " 'haven',\n",
       " \"haven't\",\n",
       " 'having',\n",
       " 'he',\n",
       " \"he'd\",\n",
       " \"he'll\",\n",
       " 'her',\n",
       " 'here',\n",
       " 'hers',\n",
       " 'herself',\n",
       " \"he's\",\n",
       " 'him',\n",
       " 'himself',\n",
       " 'his',\n",
       " 'how',\n",
       " 'i',\n",
       " \"i'd\",\n",
       " 'if',\n",
       " \"i'll\",\n",
       " \"i'm\",\n",
       " 'in',\n",
       " 'into',\n",
       " 'is',\n",
       " 'isn',\n",
       " \"isn't\",\n",
       " 'it',\n",
       " \"it'd\",\n",
       " \"it'll\",\n",
       " \"it's\",\n",
       " 'its',\n",
       " 'itself',\n",
       " \"i've\",\n",
       " 'just',\n",
       " 'll',\n",
       " 'm',\n",
       " 'ma',\n",
       " 'me',\n",
       " 'mightn',\n",
       " \"mightn't\",\n",
       " 'more',\n",
       " 'most',\n",
       " 'mustn',\n",
       " \"mustn't\",\n",
       " 'my',\n",
       " 'myself',\n",
       " 'needn',\n",
       " \"needn't\",\n",
       " 'no',\n",
       " 'nor',\n",
       " 'not',\n",
       " 'now',\n",
       " 'o',\n",
       " 'of',\n",
       " 'off',\n",
       " 'on',\n",
       " 'once',\n",
       " 'only',\n",
       " 'or',\n",
       " 'other',\n",
       " 'our',\n",
       " 'ours',\n",
       " 'ourselves',\n",
       " 'out',\n",
       " 'over',\n",
       " 'own',\n",
       " 're',\n",
       " 's',\n",
       " 'same',\n",
       " 'shan',\n",
       " \"shan't\",\n",
       " 'she',\n",
       " \"she'd\",\n",
       " \"she'll\",\n",
       " \"she's\",\n",
       " 'should',\n",
       " 'shouldn',\n",
       " \"shouldn't\",\n",
       " \"should've\",\n",
       " 'so',\n",
       " 'some',\n",
       " 'such',\n",
       " 't',\n",
       " 'than',\n",
       " 'that',\n",
       " \"that'll\",\n",
       " 'the',\n",
       " 'their',\n",
       " 'theirs',\n",
       " 'them',\n",
       " 'themselves',\n",
       " 'then',\n",
       " 'there',\n",
       " 'these',\n",
       " 'they',\n",
       " \"they'd\",\n",
       " \"they'll\",\n",
       " \"they're\",\n",
       " \"they've\",\n",
       " 'this',\n",
       " 'those',\n",
       " 'through',\n",
       " 'to',\n",
       " 'too',\n",
       " 'under',\n",
       " 'until',\n",
       " 'up',\n",
       " 've',\n",
       " 'very',\n",
       " 'was',\n",
       " 'wasn',\n",
       " \"wasn't\",\n",
       " 'we',\n",
       " \"we'd\",\n",
       " \"we'll\",\n",
       " \"we're\",\n",
       " 'were',\n",
       " 'weren',\n",
       " \"weren't\",\n",
       " \"we've\",\n",
       " 'what',\n",
       " 'when',\n",
       " 'where',\n",
       " 'which',\n",
       " 'while',\n",
       " 'who',\n",
       " 'whom',\n",
       " 'why',\n",
       " 'will',\n",
       " 'with',\n",
       " 'won',\n",
       " \"won't\",\n",
       " 'wouldn',\n",
       " \"wouldn't\",\n",
       " 'y',\n",
       " 'you',\n",
       " \"you'd\",\n",
       " \"you'll\",\n",
       " 'your',\n",
       " \"you're\",\n",
       " 'yours',\n",
       " 'yourself',\n",
       " 'yourselves',\n",
       " \"you've\"]"
      ]
     },
     "execution_count": 5,
     "metadata": {},
     "output_type": "execute_result"
    }
   ],
   "source": [
    "stopwords.words('english')"
   ]
  },
  {
   "cell_type": "code",
   "execution_count": 6,
   "id": "b7a9ddb7-de84-448e-8d89-75a48920628e",
   "metadata": {},
   "outputs": [],
   "source": [
    "from nltk.stem import PorterStemmer\n",
    "from nltk.tokenize import sent_tokenize\n",
    "from nltk.tokenize import word_tokenize"
   ]
  },
  {
   "cell_type": "code",
   "execution_count": 7,
   "id": "8dd42cfa-98c3-4fc0-97e6-515ce6f5d330",
   "metadata": {},
   "outputs": [],
   "source": [
    "stemmer = PorterStemmer()"
   ]
  },
  {
   "cell_type": "code",
   "execution_count": 8,
   "id": "b34b0260-8c37-4204-b710-11adf4b1b252",
   "metadata": {},
   "outputs": [],
   "source": [
    "sentences = nltk.sent_tokenize(paragraph)"
   ]
  },
  {
   "cell_type": "code",
   "execution_count": 9,
   "id": "9b1f6afc-798e-492c-8d0d-bad9226e90ac",
   "metadata": {},
   "outputs": [
    {
     "data": {
      "text/plain": [
       "list"
      ]
     },
     "execution_count": 9,
     "metadata": {},
     "output_type": "execute_result"
    }
   ],
   "source": [
    "type(sentences)"
   ]
  },
  {
   "cell_type": "code",
   "execution_count": 10,
   "id": "c95017b4-09f3-4aa7-afc8-cb3cfca693ff",
   "metadata": {},
   "outputs": [
    {
     "data": {
      "text/plain": [
       "[\"dr. apj abdul kalam 's speech often emphas import dream big , work hard , contribut india 's develop .\",\n",
       " 'he frequent encourag young peopl develop courag , think differ , strive excel .',\n",
       " 'he also highlight need self-reli strong sens nation ident .',\n",
       " 'here key theme idea often found speech : dream big set ambiti goal : kalam frequent urg individu , especi young peopl , dream big set ambiti goal nation .',\n",
       " 'he believ dream , coupl hard work persever , could lead remark achiev .',\n",
       " 'import educ learn : he stress signific educ , formal inform , encourag continu learn skill develop .',\n",
       " 'he believ educ empow individu contribut meaning societi .',\n",
       " \"courag persever : kalam 's speech often celebr courag , willing challeng convent think , abil persever face challeng setback .\",\n",
       " \"nation develop self-reli : he strong advoc india 's develop self-reli .\",\n",
       " 'he believ india potenti becom develop nation urg citizen work toward goal .',\n",
       " 'ethic leadership valu : kalam emphas import ethic leadership , integr , need uphold valu aspect life .',\n",
       " 'contribut societi : he encourag individu find way contribut societi , whether scientif advanc , social servic , mean .',\n",
       " 'inspir natur : kalam often use exampl natur , like flight bird , illustr complex concept inspir audienc .']"
      ]
     },
     "execution_count": 10,
     "metadata": {},
     "output_type": "execute_result"
    }
   ],
   "source": [
    "## Apply stopwords and Filter and then apply stemming\n",
    "porter_stemmer_sentences = []\n",
    "for i in range(len(sentences)):\n",
    "    words = nltk.word_tokenize(sentences[i])\n",
    "\n",
    "    words = [stemmer.stem(word) for word in words if word not in set(stopwords.words('english'))]\n",
    "    porter_stemmer_sentences.append(' '.join(words)) # convert all the words into sentences\n",
    "\n",
    "porter_stemmer_sentences"
   ]
  },
  {
   "cell_type": "code",
   "execution_count": 11,
   "id": "4fe83bce-90e8-4a73-9aeb-6070608919be",
   "metadata": {},
   "outputs": [],
   "source": [
    "from nltk.stem import SnowballStemmer\n",
    "\n",
    "snowballstemmer = SnowballStemmer('english')"
   ]
  },
  {
   "cell_type": "code",
   "execution_count": 12,
   "id": "48c8dd7f-2a43-40cc-97d3-fe206d99f812",
   "metadata": {},
   "outputs": [
    {
     "data": {
      "text/plain": [
       "[\"dr. apj abdul kalam 's speech often emphas import dream big , work hard , contribut india 's develop .\",\n",
       " 'he frequent encourag young peopl develop courag , think differ , strive excel .',\n",
       " 'he also highlight need self-reli strong sens nation ident .',\n",
       " 'here key theme idea often found speech : dream big set ambiti goal : kalam frequent urg individu , especi young peopl , dream big set ambiti goal nation .',\n",
       " 'he believ dream , coupl hard work persever , could lead remark achiev .',\n",
       " 'import educ learn : he stress signific educ , formal inform , encourag continu learn skill develop .',\n",
       " 'he believ educ empow individu contribut meaning societi .',\n",
       " \"courag persever : kalam 's speech often celebr courag , willing challeng convent think , abil persever face challeng setback .\",\n",
       " \"nation develop self-reli : he strong advoc india 's develop self-reli .\",\n",
       " 'he believ india potenti becom develop nation urg citizen work toward goal .',\n",
       " 'ethic leadership valu : kalam emphas import ethic leadership , integr , need uphold valu aspect life .',\n",
       " 'contribut societi : he encourag individu find way contribut societi , whether scientif advanc , social servic , mean .',\n",
       " 'inspir natur : kalam often use exampl natur , like flight bird , illustr complex concept inspir audienc .']"
      ]
     },
     "execution_count": 12,
     "metadata": {},
     "output_type": "execute_result"
    }
   ],
   "source": [
    "snowball_stemmer_sentences = []\n",
    "\n",
    "for i in range(len(sentences)):\n",
    "    words = nltk.word_tokenize(sentences[i])\n",
    "\n",
    "    words = [snowballstemmer.stem(word) for word in words if word not in stopwords.words('english')]\n",
    "\n",
    "    snowball_stemmer_sentences.append(' '.join(words))\n",
    "snowball_stemmer_sentences"
   ]
  },
  {
   "cell_type": "code",
   "execution_count": 13,
   "id": "7da9bc56-2a28-455b-b34c-92a550b0f63c",
   "metadata": {},
   "outputs": [],
   "source": [
    "from nltk.stem import WordNetLemmatizer\n",
    "lemmatizer = WordNetLemmatizer()"
   ]
  },
  {
   "cell_type": "code",
   "execution_count": 17,
   "id": "10e460bb-87c1-4c85-92d9-6a833223d4e3",
   "metadata": {},
   "outputs": [
    {
     "data": {
      "text/plain": [
       "[\"dr. apj abdul kalam 's speech often emphasize importance dream big , work hard , contribute india 's development .\",\n",
       " 'he frequently encourage young people develop courage , think differently , strive excellence .',\n",
       " 'he also highlight need self-reliance strong sense national identity .',\n",
       " 'here key theme idea often find speech : dream big set ambitious goals : kalam frequently urge individual , especially young people , dream big set ambitious goal nation .',\n",
       " 'he believe dream , couple hard work perseverance , could lead remarkable achievement .',\n",
       " 'importance education learn : he stress significance education , formal informal , encourage continuous learn skill development .',\n",
       " 'he believe education empower individual contribute meaningfully society .',\n",
       " \"courage perseverance : kalam 's speech often celebrate courage , willingness challenge conventional think , ability persevere face challenge setback .\",\n",
       " \"national development self-reliance : he strong advocate india 's development self-reliance .\",\n",
       " 'he believe india potential become develop nation urge citizen work towards goal .',\n",
       " 'ethical leadership value : kalam emphasize importance ethical leadership , integrity , need uphold value aspect life .',\n",
       " 'contribution society : he encourage individual find way contribute society , whether scientific advancement , social service , mean .',\n",
       " 'inspiration nature : kalam often use example nature , like flight bird , illustrate complex concept inspire audience .']"
      ]
     },
     "execution_count": 17,
     "metadata": {},
     "output_type": "execute_result"
    }
   ],
   "source": [
    "for i in range(len(sentences)):\n",
    "    \n",
    "    words = nltk.word_tokenize(sentences[i])\n",
    "\n",
    "    words = [lemmatizer.lemmatize(word.lower(),pos='v') for word in words if word not in stopwords.words('english')]\n",
    "\n",
    "    sentences[i] = ' '.join(words)\n",
    "\n",
    "sentences"
   ]
  },
  {
   "cell_type": "code",
   "execution_count": null,
   "id": "a682fb3b-6e4a-4ce4-9494-a721825da599",
   "metadata": {},
   "outputs": [],
   "source": []
  }
 ],
 "metadata": {
  "kernelspec": {
   "display_name": "Python 3 (ipykernel)",
   "language": "python",
   "name": "python3"
  },
  "language_info": {
   "codemirror_mode": {
    "name": "ipython",
    "version": 3
   },
   "file_extension": ".py",
   "mimetype": "text/x-python",
   "name": "python",
   "nbconvert_exporter": "python",
   "pygments_lexer": "ipython3",
   "version": "3.12.7"
  }
 },
 "nbformat": 4,
 "nbformat_minor": 5
}
