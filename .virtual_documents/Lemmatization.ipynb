





import nltk
nltk.download('wordnet')
from nltk.stem import WordNetLemmatizer


lemmatizer = WordNetLemmatizer()


'''
POS
noun - n
verb - v
adjective - a
adverb - r
'''
lemmatizer.lemmatize("going",pos='v')


words = ["eating", "eats", "eaten", "writing", "writes", "programming", "programs","history", "finally", "finalized"]

for word in words:
    print(word+"--->"+lemmatizer.lemmatize(word,pos='v'))


lemmatizer.lemmatize("fairly",pos='a'), lemmatizer.lemmatize("strongly",pos='a')



