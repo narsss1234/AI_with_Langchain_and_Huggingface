


paragraph = """
Dr. APJ Abdul Kalam's speeches often emphasized the importance of dreaming big, working hard, and contributing to India's development. He frequently encouraged young people to develop courage, think differently, and strive for excellence. He also highlighted the need for self-reliance and a strong sense of national identity. 
Here are some key themes and ideas often found in his speeches:
Dreaming Big and Setting Ambitious Goals:
Kalam frequently urged individuals, especially young people, to dream big and set ambitious goals for themselves and for the nation. He believed that dreams, coupled with hard work and perseverance, could lead to remarkable achievements. 
Importance of Education and Learning:
He stressed the significance of education, both formal and informal, and encouraged continuous learning and skill development. He believed that education empowers individuals to contribute meaningfully to society. 
Courage and Perseverance:
Kalam's speeches often celebrated courage, the willingness to challenge conventional thinking, and the ability to persevere in the face of challenges and setbacks. 
National Development and Self-Reliance:
He was a strong advocate for India's development and self-reliance. He believed that India had the potential to become a developed nation and urged citizens to work towards this goal. 
Ethical Leadership and Values:
Kalam emphasized the importance of ethical leadership, integrity, and the need to uphold values in all aspects of life. 
Contribution to Society:
He encouraged individuals to find ways to contribute to society, whether through scientific advancements, social service, or other means. 
Inspiration from Nature:
Kalam often used examples from nature, like the flight of birds, to illustrate complex concepts and inspire his audience. 
"""


import nltk
from nltk.stem import PorterStemmer


from nltk.corpus import stopwords


nltk.download('stopwords')


stopwords.words('english')


from nltk.stem import PorterStemmer
from nltk.tokenize import sent_tokenize
from nltk.tokenize import word_tokenize


stemmer = PorterStemmer()


sentences = nltk.sent_tokenize(paragraph)


type(sentences)


## Apply stopwords and Filter and then apply stemming
porter_stemmer_sentences = []
for i in range(len(sentences)):
    words = nltk.word_tokenize(sentences[i])

    words = [stemmer.stem(word) for word in words if word not in set(stopwords.words('english'))]
    porter_stemmer_sentences.append(' '.join(words)) # convert all the words into sentences

porter_stemmer_sentences


from nltk.stem import SnowballStemmer

snowballstemmer = SnowballStemmer('english')


snowball_stemmer_sentences = []

for i in range(len(sentences)):
    words = nltk.word_tokenize(sentences[i])

    words = [snowballstemmer.stem(word) for word in words if word not in stopwords.words('english')]

    snowball_stemmer_sentences.append(' '.join(words))
snowball_stemmer_sentences


from nltk.stem import WordNetLemmatizer
lemmatizer = WordNetLemmatizer()


for i in range(len(sentences)):
    
    words = nltk.word_tokenize(sentences[i])

    words = [lemmatizer.lemmatize(word.lower(),pos='v') for word in words if word not in stopwords.words('english')]

    sentences[i] = ' '.join(words)

sentences



