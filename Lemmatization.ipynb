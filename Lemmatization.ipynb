{
 "cells": [
  {
   "cell_type": "markdown",
   "id": "31aa5df6-530a-4177-a045-cf2dcecc5bae",
   "metadata": {},
   "source": [
    "## Wordnet Lemmatizer"
   ]
  },
  {
   "cell_type": "markdown",
   "id": "2e372267-a4cd-449e-9dd7-329b7177779d",
   "metadata": {},
   "source": [
    "Lemmatization technique is like stemming. The output we will get after lemmatization is called 'lemma', which is a root word rather than root stem, the output of stemming. After lemmatization we will be getting a valid word that means the same thing.\n",
    "\n",
    "NLTK provides WordNetLemmatizer class which is a thin wrapper around wordnet corpus. This class uses morphy() function to the WordNet CorpusReader class to find a lemma. "
   ]
  },
  {
   "cell_type": "code",
   "execution_count": 4,
   "id": "b3859938-da3f-4a31-ada5-2947bcf16983",
   "metadata": {},
   "outputs": [
    {
     "name": "stderr",
     "output_type": "stream",
     "text": [
      "[nltk_data] Downloading package wordnet to\n",
      "[nltk_data]     C:\\Users\\Admin\\AppData\\Roaming\\nltk_data...\n"
     ]
    }
   ],
   "source": [
    "import nltk\n",
    "nltk.download('wordnet')\n",
    "from nltk.stem import WordNetLemmatizer"
   ]
  },
  {
   "cell_type": "code",
   "execution_count": 5,
   "id": "2aa09f7c-38c1-493e-bda4-6de9ef431ff9",
   "metadata": {},
   "outputs": [],
   "source": [
    "lemmatizer = WordNetLemmatizer()"
   ]
  },
  {
   "cell_type": "code",
   "execution_count": 14,
   "id": "9a9df9b4-481b-4555-a367-e41e177ef68e",
   "metadata": {},
   "outputs": [
    {
     "data": {
      "text/plain": [
       "'go'"
      ]
     },
     "execution_count": 14,
     "metadata": {},
     "output_type": "execute_result"
    }
   ],
   "source": [
    "'''\n",
    "POS\n",
    "noun - n\n",
    "verb - v\n",
    "adjective - a\n",
    "adverb - r\n",
    "'''\n",
    "lemmatizer.lemmatize(\"going\",pos='v')"
   ]
  },
  {
   "cell_type": "code",
   "execution_count": 16,
   "id": "6d4d0c21-6b4c-4b9b-83b9-585b7f30c712",
   "metadata": {},
   "outputs": [
    {
     "name": "stdout",
     "output_type": "stream",
     "text": [
      "eating--->eat\n",
      "eats--->eat\n",
      "eaten--->eat\n",
      "writing--->write\n",
      "writes--->write\n",
      "programming--->program\n",
      "programs--->program\n",
      "history--->history\n",
      "finally--->finally\n",
      "finalized--->finalize\n"
     ]
    }
   ],
   "source": [
    "words = [\"eating\", \"eats\", \"eaten\", \"writing\", \"writes\", \"programming\", \"programs\",\"history\", \"finally\", \"finalized\"]\n",
    "\n",
    "for word in words:\n",
    "    print(word+\"--->\"+lemmatizer.lemmatize(word,pos='v'))"
   ]
  },
  {
   "cell_type": "code",
   "execution_count": 20,
   "id": "e18d4c5d-afb6-431c-bbef-d0e2407b8210",
   "metadata": {},
   "outputs": [
    {
     "data": {
      "text/plain": [
       "('fairly', 'strongly')"
      ]
     },
     "execution_count": 20,
     "metadata": {},
     "output_type": "execute_result"
    }
   ],
   "source": [
    "lemmatizer.lemmatize(\"fairly\",pos='a'), lemmatizer.lemmatize(\"strongly\",pos='a')"
   ]
  },
  {
   "cell_type": "code",
   "execution_count": null,
   "id": "0ebf928a-dd64-42e5-8139-6e3aeca0f132",
   "metadata": {},
   "outputs": [],
   "source": []
  }
 ],
 "metadata": {
  "kernelspec": {
   "display_name": "Python 3 (ipykernel)",
   "language": "python",
   "name": "python3"
  },
  "language_info": {
   "codemirror_mode": {
    "name": "ipython",
    "version": 3
   },
   "file_extension": ".py",
   "mimetype": "text/x-python",
   "name": "python",
   "nbconvert_exporter": "python",
   "pygments_lexer": "ipython3",
   "version": "3.12.7"
  }
 },
 "nbformat": 4,
 "nbformat_minor": 5
}
